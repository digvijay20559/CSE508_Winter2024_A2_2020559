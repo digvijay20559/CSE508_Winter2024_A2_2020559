{
  "nbformat": 4,
  "nbformat_minor": 0,
  "metadata": {
    "colab": {
      "provenance": []
    },
    "kernelspec": {
      "name": "python3",
      "display_name": "Python 3"
    },
    "language_info": {
      "name": "python"
    }
  },
  "cells": [
    {
      "cell_type": "code",
      "execution_count": 71,
      "metadata": {
        "colab": {
          "base_uri": "https://localhost:8080/"
        },
        "id": "m0cR-43oFn3f",
        "outputId": "da305677-c218-4a87-f796-4f917ba34a3e"
      },
      "outputs": [
        {
          "output_type": "stream",
          "name": "stdout",
          "text": [
            "Drive already mounted at /content/drive; to attempt to forcibly remount, call drive.mount(\"/content/drive\", force_remount=True).\n"
          ]
        },
        {
          "output_type": "stream",
          "name": "stderr",
          "text": [
            "[nltk_data] Downloading package punkt to /root/nltk_data...\n",
            "[nltk_data]   Package punkt is already up-to-date!\n",
            "[nltk_data] Downloading package stopwords to /root/nltk_data...\n",
            "[nltk_data]   Package stopwords is already up-to-date!\n"
          ]
        },
        {
          "output_type": "execute_result",
          "data": {
            "text/plain": [
              "True"
            ]
          },
          "metadata": {},
          "execution_count": 71
        }
      ],
      "source": [
        "import nltk\n",
        "from google.colab import drive\n",
        "drive.mount('/content/drive')\n",
        "import nltk\n",
        "from nltk.corpus import stopwords\n",
        "from nltk.tokenize import word_tokenize\n",
        "import string\n",
        "nltk.download('punkt')\n",
        "nltk.download('stopwords')"
      ]
    },
    {
      "cell_type": "code",
      "source": [
        "import pandas as pd\n",
        "data= pd.read_csv(\"/content/drive/MyDrive/CSE508_Winter2024_A2_2020559/A2_Data.csv\")\n",
        "data\n"
      ],
      "metadata": {
        "id": "6q-HcJo5GHi_",
        "colab": {
          "base_uri": "https://localhost:8080/",
          "height": 614
        },
        "outputId": "8a64e079-3dac-4e24-9b5c-07ac7eae5f50"
      },
      "execution_count": 72,
      "outputs": [
        {
          "output_type": "execute_result",
          "data": {
            "text/plain": [
              "     Unnamed: 0                                              Image  \\\n",
              "0          3452  ['https://images-na.ssl-images-amazon.com/imag...   \n",
              "1          1205  ['https://images-na.ssl-images-amazon.com/imag...   \n",
              "2          1708  ['https://images-na.ssl-images-amazon.com/imag...   \n",
              "3          2078  ['https://images-na.ssl-images-amazon.com/imag...   \n",
              "4           801  ['https://images-na.ssl-images-amazon.com/imag...   \n",
              "..          ...                                                ...   \n",
              "995        1265  ['https://images-na.ssl-images-amazon.com/imag...   \n",
              "996        1882  ['https://images-na.ssl-images-amazon.com/imag...   \n",
              "997        1547  ['https://images-na.ssl-images-amazon.com/imag...   \n",
              "998        1004  ['https://images-na.ssl-images-amazon.com/imag...   \n",
              "999        1306  ['https://images-na.ssl-images-amazon.com/imag...   \n",
              "\n",
              "                                           Review Text  \n",
              "0    Loving these vintage springs on my vintage str...  \n",
              "1    Works great as a guitar bench mat. Not rugged ...  \n",
              "2    We use these for everything from our acoustic ...  \n",
              "3    Great price and good quality.  It didn't quite...  \n",
              "4    I bought this bass to split time as my primary...  \n",
              "..                                                 ...  \n",
              "995                 Extremely impressed with this kit.  \n",
              "996  This is a great stereo reverb with plenty of c...  \n",
              "997  I really like the simplicity of this bridge. I...  \n",
              "998  Great Product, but there is no warranty in the...  \n",
              "999  This product is good and is used in profession...  \n",
              "\n",
              "[1000 rows x 3 columns]"
            ],
            "text/html": [
              "\n",
              "  <div id=\"df-104e5f46-37ff-449f-b4c4-d80b6298cb42\" class=\"colab-df-container\">\n",
              "    <div>\n",
              "<style scoped>\n",
              "    .dataframe tbody tr th:only-of-type {\n",
              "        vertical-align: middle;\n",
              "    }\n",
              "\n",
              "    .dataframe tbody tr th {\n",
              "        vertical-align: top;\n",
              "    }\n",
              "\n",
              "    .dataframe thead th {\n",
              "        text-align: right;\n",
              "    }\n",
              "</style>\n",
              "<table border=\"1\" class=\"dataframe\">\n",
              "  <thead>\n",
              "    <tr style=\"text-align: right;\">\n",
              "      <th></th>\n",
              "      <th>Unnamed: 0</th>\n",
              "      <th>Image</th>\n",
              "      <th>Review Text</th>\n",
              "    </tr>\n",
              "  </thead>\n",
              "  <tbody>\n",
              "    <tr>\n",
              "      <th>0</th>\n",
              "      <td>3452</td>\n",
              "      <td>['https://images-na.ssl-images-amazon.com/imag...</td>\n",
              "      <td>Loving these vintage springs on my vintage str...</td>\n",
              "    </tr>\n",
              "    <tr>\n",
              "      <th>1</th>\n",
              "      <td>1205</td>\n",
              "      <td>['https://images-na.ssl-images-amazon.com/imag...</td>\n",
              "      <td>Works great as a guitar bench mat. Not rugged ...</td>\n",
              "    </tr>\n",
              "    <tr>\n",
              "      <th>2</th>\n",
              "      <td>1708</td>\n",
              "      <td>['https://images-na.ssl-images-amazon.com/imag...</td>\n",
              "      <td>We use these for everything from our acoustic ...</td>\n",
              "    </tr>\n",
              "    <tr>\n",
              "      <th>3</th>\n",
              "      <td>2078</td>\n",
              "      <td>['https://images-na.ssl-images-amazon.com/imag...</td>\n",
              "      <td>Great price and good quality.  It didn't quite...</td>\n",
              "    </tr>\n",
              "    <tr>\n",
              "      <th>4</th>\n",
              "      <td>801</td>\n",
              "      <td>['https://images-na.ssl-images-amazon.com/imag...</td>\n",
              "      <td>I bought this bass to split time as my primary...</td>\n",
              "    </tr>\n",
              "    <tr>\n",
              "      <th>...</th>\n",
              "      <td>...</td>\n",
              "      <td>...</td>\n",
              "      <td>...</td>\n",
              "    </tr>\n",
              "    <tr>\n",
              "      <th>995</th>\n",
              "      <td>1265</td>\n",
              "      <td>['https://images-na.ssl-images-amazon.com/imag...</td>\n",
              "      <td>Extremely impressed with this kit.</td>\n",
              "    </tr>\n",
              "    <tr>\n",
              "      <th>996</th>\n",
              "      <td>1882</td>\n",
              "      <td>['https://images-na.ssl-images-amazon.com/imag...</td>\n",
              "      <td>This is a great stereo reverb with plenty of c...</td>\n",
              "    </tr>\n",
              "    <tr>\n",
              "      <th>997</th>\n",
              "      <td>1547</td>\n",
              "      <td>['https://images-na.ssl-images-amazon.com/imag...</td>\n",
              "      <td>I really like the simplicity of this bridge. I...</td>\n",
              "    </tr>\n",
              "    <tr>\n",
              "      <th>998</th>\n",
              "      <td>1004</td>\n",
              "      <td>['https://images-na.ssl-images-amazon.com/imag...</td>\n",
              "      <td>Great Product, but there is no warranty in the...</td>\n",
              "    </tr>\n",
              "    <tr>\n",
              "      <th>999</th>\n",
              "      <td>1306</td>\n",
              "      <td>['https://images-na.ssl-images-amazon.com/imag...</td>\n",
              "      <td>This product is good and is used in profession...</td>\n",
              "    </tr>\n",
              "  </tbody>\n",
              "</table>\n",
              "<p>1000 rows × 3 columns</p>\n",
              "</div>\n",
              "    <div class=\"colab-df-buttons\">\n",
              "\n",
              "  <div class=\"colab-df-container\">\n",
              "    <button class=\"colab-df-convert\" onclick=\"convertToInteractive('df-104e5f46-37ff-449f-b4c4-d80b6298cb42')\"\n",
              "            title=\"Convert this dataframe to an interactive table.\"\n",
              "            style=\"display:none;\">\n",
              "\n",
              "  <svg xmlns=\"http://www.w3.org/2000/svg\" height=\"24px\" viewBox=\"0 -960 960 960\">\n",
              "    <path d=\"M120-120v-720h720v720H120Zm60-500h600v-160H180v160Zm220 220h160v-160H400v160Zm0 220h160v-160H400v160ZM180-400h160v-160H180v160Zm440 0h160v-160H620v160ZM180-180h160v-160H180v160Zm440 0h160v-160H620v160Z\"/>\n",
              "  </svg>\n",
              "    </button>\n",
              "\n",
              "  <style>\n",
              "    .colab-df-container {\n",
              "      display:flex;\n",
              "      gap: 12px;\n",
              "    }\n",
              "\n",
              "    .colab-df-convert {\n",
              "      background-color: #E8F0FE;\n",
              "      border: none;\n",
              "      border-radius: 50%;\n",
              "      cursor: pointer;\n",
              "      display: none;\n",
              "      fill: #1967D2;\n",
              "      height: 32px;\n",
              "      padding: 0 0 0 0;\n",
              "      width: 32px;\n",
              "    }\n",
              "\n",
              "    .colab-df-convert:hover {\n",
              "      background-color: #E2EBFA;\n",
              "      box-shadow: 0px 1px 2px rgba(60, 64, 67, 0.3), 0px 1px 3px 1px rgba(60, 64, 67, 0.15);\n",
              "      fill: #174EA6;\n",
              "    }\n",
              "\n",
              "    .colab-df-buttons div {\n",
              "      margin-bottom: 4px;\n",
              "    }\n",
              "\n",
              "    [theme=dark] .colab-df-convert {\n",
              "      background-color: #3B4455;\n",
              "      fill: #D2E3FC;\n",
              "    }\n",
              "\n",
              "    [theme=dark] .colab-df-convert:hover {\n",
              "      background-color: #434B5C;\n",
              "      box-shadow: 0px 1px 3px 1px rgba(0, 0, 0, 0.15);\n",
              "      filter: drop-shadow(0px 1px 2px rgba(0, 0, 0, 0.3));\n",
              "      fill: #FFFFFF;\n",
              "    }\n",
              "  </style>\n",
              "\n",
              "    <script>\n",
              "      const buttonEl =\n",
              "        document.querySelector('#df-104e5f46-37ff-449f-b4c4-d80b6298cb42 button.colab-df-convert');\n",
              "      buttonEl.style.display =\n",
              "        google.colab.kernel.accessAllowed ? 'block' : 'none';\n",
              "\n",
              "      async function convertToInteractive(key) {\n",
              "        const element = document.querySelector('#df-104e5f46-37ff-449f-b4c4-d80b6298cb42');\n",
              "        const dataTable =\n",
              "          await google.colab.kernel.invokeFunction('convertToInteractive',\n",
              "                                                    [key], {});\n",
              "        if (!dataTable) return;\n",
              "\n",
              "        const docLinkHtml = 'Like what you see? Visit the ' +\n",
              "          '<a target=\"_blank\" href=https://colab.research.google.com/notebooks/data_table.ipynb>data table notebook</a>'\n",
              "          + ' to learn more about interactive tables.';\n",
              "        element.innerHTML = '';\n",
              "        dataTable['output_type'] = 'display_data';\n",
              "        await google.colab.output.renderOutput(dataTable, element);\n",
              "        const docLink = document.createElement('div');\n",
              "        docLink.innerHTML = docLinkHtml;\n",
              "        element.appendChild(docLink);\n",
              "      }\n",
              "    </script>\n",
              "  </div>\n",
              "\n",
              "\n",
              "<div id=\"df-e106d027-6361-4e40-8175-f7dbcba700d0\">\n",
              "  <button class=\"colab-df-quickchart\" onclick=\"quickchart('df-e106d027-6361-4e40-8175-f7dbcba700d0')\"\n",
              "            title=\"Suggest charts\"\n",
              "            style=\"display:none;\">\n",
              "\n",
              "<svg xmlns=\"http://www.w3.org/2000/svg\" height=\"24px\"viewBox=\"0 0 24 24\"\n",
              "     width=\"24px\">\n",
              "    <g>\n",
              "        <path d=\"M19 3H5c-1.1 0-2 .9-2 2v14c0 1.1.9 2 2 2h14c1.1 0 2-.9 2-2V5c0-1.1-.9-2-2-2zM9 17H7v-7h2v7zm4 0h-2V7h2v10zm4 0h-2v-4h2v4z\"/>\n",
              "    </g>\n",
              "</svg>\n",
              "  </button>\n",
              "\n",
              "<style>\n",
              "  .colab-df-quickchart {\n",
              "      --bg-color: #E8F0FE;\n",
              "      --fill-color: #1967D2;\n",
              "      --hover-bg-color: #E2EBFA;\n",
              "      --hover-fill-color: #174EA6;\n",
              "      --disabled-fill-color: #AAA;\n",
              "      --disabled-bg-color: #DDD;\n",
              "  }\n",
              "\n",
              "  [theme=dark] .colab-df-quickchart {\n",
              "      --bg-color: #3B4455;\n",
              "      --fill-color: #D2E3FC;\n",
              "      --hover-bg-color: #434B5C;\n",
              "      --hover-fill-color: #FFFFFF;\n",
              "      --disabled-bg-color: #3B4455;\n",
              "      --disabled-fill-color: #666;\n",
              "  }\n",
              "\n",
              "  .colab-df-quickchart {\n",
              "    background-color: var(--bg-color);\n",
              "    border: none;\n",
              "    border-radius: 50%;\n",
              "    cursor: pointer;\n",
              "    display: none;\n",
              "    fill: var(--fill-color);\n",
              "    height: 32px;\n",
              "    padding: 0;\n",
              "    width: 32px;\n",
              "  }\n",
              "\n",
              "  .colab-df-quickchart:hover {\n",
              "    background-color: var(--hover-bg-color);\n",
              "    box-shadow: 0 1px 2px rgba(60, 64, 67, 0.3), 0 1px 3px 1px rgba(60, 64, 67, 0.15);\n",
              "    fill: var(--button-hover-fill-color);\n",
              "  }\n",
              "\n",
              "  .colab-df-quickchart-complete:disabled,\n",
              "  .colab-df-quickchart-complete:disabled:hover {\n",
              "    background-color: var(--disabled-bg-color);\n",
              "    fill: var(--disabled-fill-color);\n",
              "    box-shadow: none;\n",
              "  }\n",
              "\n",
              "  .colab-df-spinner {\n",
              "    border: 2px solid var(--fill-color);\n",
              "    border-color: transparent;\n",
              "    border-bottom-color: var(--fill-color);\n",
              "    animation:\n",
              "      spin 1s steps(1) infinite;\n",
              "  }\n",
              "\n",
              "  @keyframes spin {\n",
              "    0% {\n",
              "      border-color: transparent;\n",
              "      border-bottom-color: var(--fill-color);\n",
              "      border-left-color: var(--fill-color);\n",
              "    }\n",
              "    20% {\n",
              "      border-color: transparent;\n",
              "      border-left-color: var(--fill-color);\n",
              "      border-top-color: var(--fill-color);\n",
              "    }\n",
              "    30% {\n",
              "      border-color: transparent;\n",
              "      border-left-color: var(--fill-color);\n",
              "      border-top-color: var(--fill-color);\n",
              "      border-right-color: var(--fill-color);\n",
              "    }\n",
              "    40% {\n",
              "      border-color: transparent;\n",
              "      border-right-color: var(--fill-color);\n",
              "      border-top-color: var(--fill-color);\n",
              "    }\n",
              "    60% {\n",
              "      border-color: transparent;\n",
              "      border-right-color: var(--fill-color);\n",
              "    }\n",
              "    80% {\n",
              "      border-color: transparent;\n",
              "      border-right-color: var(--fill-color);\n",
              "      border-bottom-color: var(--fill-color);\n",
              "    }\n",
              "    90% {\n",
              "      border-color: transparent;\n",
              "      border-bottom-color: var(--fill-color);\n",
              "    }\n",
              "  }\n",
              "</style>\n",
              "\n",
              "  <script>\n",
              "    async function quickchart(key) {\n",
              "      const quickchartButtonEl =\n",
              "        document.querySelector('#' + key + ' button');\n",
              "      quickchartButtonEl.disabled = true;  // To prevent multiple clicks.\n",
              "      quickchartButtonEl.classList.add('colab-df-spinner');\n",
              "      try {\n",
              "        const charts = await google.colab.kernel.invokeFunction(\n",
              "            'suggestCharts', [key], {});\n",
              "      } catch (error) {\n",
              "        console.error('Error during call to suggestCharts:', error);\n",
              "      }\n",
              "      quickchartButtonEl.classList.remove('colab-df-spinner');\n",
              "      quickchartButtonEl.classList.add('colab-df-quickchart-complete');\n",
              "    }\n",
              "    (() => {\n",
              "      let quickchartButtonEl =\n",
              "        document.querySelector('#df-e106d027-6361-4e40-8175-f7dbcba700d0 button');\n",
              "      quickchartButtonEl.style.display =\n",
              "        google.colab.kernel.accessAllowed ? 'block' : 'none';\n",
              "    })();\n",
              "  </script>\n",
              "</div>\n",
              "    </div>\n",
              "  </div>\n"
            ],
            "application/vnd.google.colaboratory.intrinsic+json": {
              "type": "dataframe",
              "variable_name": "data",
              "summary": "{\n  \"name\": \"data\",\n  \"rows\": 1000,\n  \"fields\": [\n    {\n      \"column\": \"Unnamed: 0\",\n      \"properties\": {\n        \"dtype\": \"number\",\n        \"std\": 1109,\n        \"min\": 4,\n        \"max\": 3888,\n        \"num_unique_values\": 1000,\n        \"samples\": [\n          1023,\n          2801,\n          244\n        ],\n        \"semantic_type\": \"\",\n        \"description\": \"\"\n      }\n    },\n    {\n      \"column\": \"Image\",\n      \"properties\": {\n        \"dtype\": \"string\",\n        \"num_unique_values\": 990,\n        \"samples\": [\n          \"['https://images-na.ssl-images-amazon.com/images/I/71vNRf0A+YL._SY88.jpg']\",\n          \"['https://images-na.ssl-images-amazon.com/images/I/61zFPF6hgrL._SY88.jpg']\",\n          \"['https://images-na.ssl-images-amazon.com/images/I/71aNT7H6QxL._SY88.jpg']\"\n        ],\n        \"semantic_type\": \"\",\n        \"description\": \"\"\n      }\n    },\n    {\n      \"column\": \"Review Text\",\n      \"properties\": {\n        \"dtype\": \"string\",\n        \"num_unique_values\": 996,\n        \"samples\": [\n          \"I like this pedal very much so far. My favorite pedal was a Joyo and it didn't last long. It's in my junk pile. I hate the for the money thing. This delay pedal does a lot more than most one trick ponys out there. Money when you get into Chinese stuff is a gamble, I hope I get some time out of this Joyo because it just that great.\",\n          \"These are alot better than the Mahalo felt picks I've been using on my ukuleles. The Mahalos are soft, fat and flat, these are stiff, thinner and tapered, meaning they're easier to hold and play with and I get sharper sound. The 12 I got should last for quite some time, the Mahalos are showing more wear. Probably everyone should get some felt picks, very useful and alot of fun; these are really good ones.\",\n          \"Best strap lock system out there! -\"\n        ],\n        \"semantic_type\": \"\",\n        \"description\": \"\"\n      }\n    }\n  ]\n}"
            }
          },
          "metadata": {},
          "execution_count": 72
        }
      ]
    },
    {
      "cell_type": "code",
      "source": [
        "data.columns\n"
      ],
      "metadata": {
        "colab": {
          "base_uri": "https://localhost:8080/"
        },
        "id": "bjnr0QfYIQ0J",
        "outputId": "db4485db-2119-44fe-e741-1ec66605a28c"
      },
      "execution_count": 73,
      "outputs": [
        {
          "output_type": "execute_result",
          "data": {
            "text/plain": [
              "Index(['Unnamed: 0', 'Image', 'Review Text'], dtype='object')"
            ]
          },
          "metadata": {},
          "execution_count": 73
        }
      ]
    },
    {
      "cell_type": "code",
      "source": [
        "import matplotlib.pyplot as plt\n",
        "import numpy as np\n",
        "import requests\n",
        "from PIL import Image\n",
        "from io import BytesIO\n",
        "\n",
        "url2data = {}\n",
        "id2data = {}\n",
        "urlList = []\n",
        "review2id = {}\n",
        "url2features = {}\n",
        "removedUrl=[]\n",
        "\n",
        "for image in data.index:\n",
        "  for url in eval(data['Image'][image]):\n",
        "    try:\n",
        "      response = requests.get(url)\n",
        "      retImage=Image.open(BytesIO(response.content))\n",
        "      urlList.append(url)\n",
        "      url2data[url]={'image':retImage,'id':data['Unnamed: 0'][image],'review':data['Review Text'][image]}\n",
        "\n",
        "\n",
        "    except Exception as e:\n",
        "      removedUrl.append(url)\n",
        "\n",
        "  id2data[data['Unnamed: 0'][image]]={'review':data['Review Text'][image],'url':eval(data['Image'][image])}\n",
        "  review2id[data['Review Text'][image]]=data['Unnamed: 0'][image]\n"
      ],
      "metadata": {
        "id": "kitWnCTfG-lG"
      },
      "execution_count": 74,
      "outputs": []
    },
    {
      "cell_type": "code",
      "source": [
        "print(len(urlList),len(removedUrl))"
      ],
      "metadata": {
        "colab": {
          "base_uri": "https://localhost:8080/"
        },
        "id": "1ZO34F94hFDa",
        "outputId": "3fd5ecca-a2da-428d-f042-abf52c05f3d4"
      },
      "execution_count": 75,
      "outputs": [
        {
          "output_type": "stream",
          "name": "stdout",
          "text": [
            "1640 8\n"
          ]
        }
      ]
    },
    {
      "cell_type": "code",
      "source": [
        "import tensorflow as tf\n",
        "from PIL import Image\n",
        "from PIL import ImageEnhance\n",
        "from PIL import ImageOps\n",
        "import random\n",
        "\n",
        "def image_feature_extraction_model(input_shape=(88, 88, 3)):\n",
        "    model = tf.keras.applications.MobileNetV2(input_shape=input_shape, include_top=False, weights='imagenet')\n",
        "    model.trainable = False\n",
        "    global_average_layer = tf.keras.layers.GlobalAveragePooling2D()\n",
        "    feature_extraction_layer = global_average_layer(model.output)\n",
        "    feature_extraction_model = tf.keras.Model(inputs=model.input, outputs=feature_extraction_layer)\n",
        "\n",
        "    return feature_extraction_model\n",
        "\n",
        "\n",
        "def preprocess_image(image_array, target_size=(88, 88)):\n",
        "    img = Image.fromarray(np.array(image_array))\n",
        "    img = img.resize(target_size)\n",
        "    enhancer = ImageEnhance.Contrast(img)\n",
        "    img = enhancer.enhance(1.3)\n",
        "\n",
        "    enhancer = ImageEnhance.Brightness(img)\n",
        "    img = enhancer.enhance(1.3)\n",
        "\n",
        "    if np.random.rand()>0.5:\n",
        "      img = ImageOps.mirror(img)\n",
        "\n",
        "    if np.random.rand()>0.5:\n",
        "      img = ImageOps.flip(img)\n",
        "\n",
        "    return np.expand_dims(np.array(img),axis=0)\n",
        "\n",
        "model = image_feature_extraction_model()"
      ],
      "metadata": {
        "colab": {
          "base_uri": "https://localhost:8080/"
        },
        "id": "qraEIA3mgqgg",
        "outputId": "cefb4054-3a16-464c-de57-7be348e0c6bb"
      },
      "execution_count": 76,
      "outputs": [
        {
          "output_type": "stream",
          "name": "stderr",
          "text": [
            "WARNING:tensorflow:`input_shape` is undefined or non-square, or `rows` is not in [96, 128, 160, 192, 224]. Weights for input shape (224, 224) will be loaded as the default.\n"
          ]
        }
      ]
    },
    {
      "cell_type": "code",
      "source": [
        "for url in urlList:\n",
        "  url2features[url]=model(preprocess_image(url2data[url]['image']))"
      ],
      "metadata": {
        "id": "9DMwCBl4VeQx"
      },
      "execution_count": 77,
      "outputs": []
    },
    {
      "cell_type": "code",
      "source": [
        "import pickle\n",
        "\n",
        "with open('/content/drive/MyDrive/CSE508_Winter2024_A2_2020559/u2f.pkl','wb') as f:\n",
        "  pickle.dump(url2features,f)\n",
        "\n",
        "with open('/content/drive/MyDrive/CSE508_Winter2024_A2_2020559/u2f.pkl','rb') as f:\n",
        "  url2features = pickle.load(f)\n"
      ],
      "metadata": {
        "id": "5N5Kkg0lrWJt"
      },
      "execution_count": 78,
      "outputs": []
    },
    {
      "cell_type": "code",
      "source": [
        "import math\n",
        "from collections import Counter\n",
        "from nltk.stem import PorterStemmer, WordNetLemmatizer\n",
        "porter_stemmer = PorterStemmer()\n",
        "wordnet_lemmatizer = WordNetLemmatizer()\n",
        "import nltk\n",
        "nltk.download('wordnet')\n",
        "\n",
        "def calculate_tf(document):\n",
        "    word_counts = Counter(document)\n",
        "    total_words = len(document)\n",
        "    tf = {word: count / total_words for word, count in word_counts.items()}\n",
        "    return tf\n",
        "\n",
        "def calculate_idf(corpus, term):\n",
        "    num_documents_with_term = sum(1 for doc in corpus if term in doc)\n",
        "    num_documents = len(corpus)\n",
        "    idf = math.log(num_documents / (1 + num_documents_with_term))\n",
        "    return idf\n",
        "\n",
        "def calculate_tfidf(document, corpus):\n",
        "    tfidf = {}\n",
        "    tf = calculate_tf(document)\n",
        "\n",
        "    for term in tf:\n",
        "        idf = calculate_idf(corpus, term)\n",
        "        tfidf[term] = tf[term] * idf\n",
        "\n",
        "    return tfidf\n",
        "\n",
        "reviews = [review for review in data['Review Text']]\n",
        "\n",
        "review2features={}\n",
        "\n",
        "def preprocess(text,prnt=False):\n",
        "    text = str(text).lower()\n",
        "\n",
        "    tokens = word_tokenize(text)\n",
        "\n",
        "    filtered_tokens = [word for word in tokens if word not in stopwords.words('english')]\n",
        "\n",
        "    filtered_tokens = [word for word in filtered_tokens if word not in string.punctuation]\n",
        "\n",
        "    filtered_tokens = [word for word in filtered_tokens if word.strip()]\n",
        "\n",
        "    filtered_tokens = [porter_stemmer.stem(word) for word in filtered_tokens]\n",
        "\n",
        "    filtered_tokens = [wordnet_lemmatizer.lemmatize(word) for word in filtered_tokens]\n",
        "\n",
        "    return filtered_tokens\n"
      ],
      "metadata": {
        "id": "oNIiQjBIIeDw",
        "colab": {
          "base_uri": "https://localhost:8080/"
        },
        "outputId": "b17b99c0-89c8-46ec-b695-66dff8da1a07"
      },
      "execution_count": 81,
      "outputs": [
        {
          "output_type": "stream",
          "name": "stderr",
          "text": [
            "[nltk_data] Downloading package wordnet to /root/nltk_data...\n"
          ]
        }
      ]
    },
    {
      "cell_type": "code",
      "source": [
        "tokenized_documents = [preprocess(i) for i in reviews]\n",
        "for doc in (reviews):\n",
        "    review2features[doc] = calculate_tfidf(preprocess(doc), tokenized_documents)"
      ],
      "metadata": {
        "id": "TjvnfRzCT2F0"
      },
      "execution_count": 82,
      "outputs": []
    },
    {
      "cell_type": "code",
      "source": [
        "import pickle\n",
        "\n",
        "with open('/content/drive/MyDrive/CSE508_Winter2024_A2_2020559/r2f.pkl','wb') as f:\n",
        "  pickle.dump(review2features,f)\n",
        "\n",
        "with open('/content/drive/MyDrive/CSE508_Winter2024_A2_2020559/r2f.pkl','rb') as f:\n",
        "  review2features = pickle.load(f)\n"
      ],
      "metadata": {
        "id": "_jdUsaIVT9P1"
      },
      "execution_count": 83,
      "outputs": []
    },
    {
      "cell_type": "code",
      "source": [
        "import math\n",
        "\n",
        "def calculate_cosine_similarity(tfidf_doc1, tfidf_doc2):\n",
        "    dot_product = sum(tfidf_doc1.get(term, 0) * tfidf_doc2.get(term, 0) for term in set(tfidf_doc1) & set(tfidf_doc2))\n",
        "\n",
        "    magnitude_doc1 = math.sqrt(sum(score**2 for score in tfidf_doc1.values()))\n",
        "    magnitude_doc2 = math.sqrt(sum(score**2 for score in tfidf_doc2.values()))\n",
        "\n",
        "    cosine_similarity = dot_product / (magnitude_doc1 * magnitude_doc2) if magnitude_doc1 * magnitude_doc2 != 0 else 0\n",
        "\n",
        "    return cosine_similarity\n"
      ],
      "metadata": {
        "id": "EWDcDd93EIix"
      },
      "execution_count": 84,
      "outputs": []
    },
    {
      "cell_type": "markdown",
      "source": [
        "#Image Retrieval"
      ],
      "metadata": {
        "id": "PyzT310UmH4W"
      }
    },
    {
      "cell_type": "code",
      "source": [
        "from sklearn.metrics.pairwise import cosine_similarity\n",
        "inp_url = input(\"Input url \")\n",
        "inp_review = input(\"Input Review \")\n",
        "cosine_scores = [[cosine_similarity(url2features[inp_url],url2features[tempUrl])[0][0],tempUrl] for tempUrl in urlList if url2data[tempUrl]['id']!=url2data[inp_url]['id']]\n",
        "cosine_scores.sort(key=lambda l:l[0],reverse=True)\n",
        "print('\\n\\n')\n",
        "for indexx in range(3):\n",
        "  tempUrls = cosine_scores[indexx][1]\n",
        "  tempReviews = url2data[tempUrls]['review']\n",
        "  tempIscore = cosine_scores[indexx][0]\n",
        "  tempRscore = calculate_cosine_similarity(review2features[tempReviews],review2features[inp_review])\n",
        "\n",
        "  print('Image URL: ',tempUrls)\n",
        "  print(\"Review: \",tempReviews)\n",
        "  print(\"Cosine similarity of images: \", tempIscore)\n",
        "  print(\"Cosine similarity of reviews: \", tempRscore)\n",
        "  print('Composite similarity score: ', (tempIscore+tempRscore)/2,'\\n')"
      ],
      "metadata": {
        "id": "aJvyw1pYEyOC",
        "colab": {
          "base_uri": "https://localhost:8080/"
        },
        "outputId": "0081b945-8dd8-46b2-93b5-21bf6e9ede60"
      },
      "execution_count": 85,
      "outputs": [
        {
          "output_type": "stream",
          "name": "stdout",
          "text": [
            "Input url https://images-na.ssl-images-amazon.com/images/I/81q5+IxFVUL._SY88.jpg\n",
            "Input Review Loving these vintage springs on my vintage strat. They have a good tension and great stability. If you are floating your bridge and want the most out of your springs than these are the way to go.\n",
            "\n",
            "\n",
            "\n",
            "Image URL:  https://images-na.ssl-images-amazon.com/images/I/8128C2ja3vL._SY88.jpg\n",
            "Review:  IMO this is the best and only way to mount toms, especially Pearls.  My Session kit came with them and with the heavy 6 play maple toms have never had a single issue with tuning, bouncing, lug stress whatsoever.  I think after you use them for a while you can take them for granted and don't fully understand how sturdy they are until you use another suspension system.  I recently purchased a Pearl Birch Vision kit for my wife which came with Pearl's I.S.S. mounting system.  To be fair I've never used them, and in the case of the new kit they came right off, and the Optimounts went right on.  Even though these are not the aluminum (more expensive and slightly lighter) Masterworks version, I feel they not only work for what they're intended, but they also accent the drum shells without being intrusive.  Most drummers buy, skin, and play for sound, but showing off your nice wood shells never hurts.  I can't think of a single negative, except that they're not free.  :)\n",
            "Cosine similarity of images:  0.92240953\n",
            "Cosine similarity of reviews:  0.008857584408729318\n",
            "Composite similarity score:  0.4656335594315375 \n",
            "\n",
            "Image URL:  https://images-na.ssl-images-amazon.com/images/I/71IJnFDpNLL._SY88.jpg\n",
            "Review:  This was an easy installation. Used it on a recent tele build. Fits right in with hand pressure. Used some light taps with a rubber mallet to seat a few that weren't exactly flush.\n",
            "Cosine similarity of images:  0.9104011\n",
            "Cosine similarity of reviews:  0.0\n",
            "Composite similarity score:  0.45520055294036865 \n",
            "\n",
            "Image URL:  https://images-na.ssl-images-amazon.com/images/I/616BUvHEUaL._SY88.jpg\n",
            "Review:  Purchased after studying the reviews on quality, which is accurate for this mount. It timely arrived. The center mike holder opening is for a much larger microphone than the ATR 2100, that I own. The 2100 indicates 51mm, but that is at the mike area, not the trunk which is much smaller and used for mounting to the shock mount. After researching a replacement in the same price range, I found none. I had some foam pipe insulation for 1/2 inch pvc pipe in the utility room. This is readily available from most any big box hardware store.  I cut the foam about 4\" in length and placed the 2100 in the foam. It fits perfect. I didn't seal the foam, but it is just right and tight in the mount holder. I now have a shock mount that can be used if, and when, I purchase a larger microphone. I have attached a photo. After the image was created, I further trimmed the foam length to match the actual size of the mounting holder opening.  This shock mount is a quality product at a great price.\n",
            "Cosine similarity of images:  0.90961015\n",
            "Cosine similarity of reviews:  0.0014685256798165917\n",
            "Composite similarity score:  0.45553933896219223 \n",
            "\n"
          ]
        }
      ]
    },
    {
      "cell_type": "markdown",
      "source": [
        "#Review Retrieval"
      ],
      "metadata": {
        "id": "VEoZey8zxF3B"
      }
    },
    {
      "cell_type": "code",
      "source": [
        "inp_url = input(\"Input url \")\n",
        "inp_review = input(\"Input Review \")\n",
        "cosine_scores = [[calculate_cosine_similarity(review2features[inp_review],review2features[tempReview]),tempReview] for tempReview in data['Review Text'] if tempReview!=inp_review and isinstance(tempReview, str)]\n",
        "cosine_scores.sort(key=lambda l:l[0],reverse=True)\n",
        "print('\\n\\n')\n",
        "for indexx in range(3):\n",
        "  tempUrls = id2data[review2id[cosine_scores[indexx][1]]]['url']\n",
        "  tempReviews = cosine_scores[indexx][1]\n",
        "  tempIscore = np.mean([cosine_similarity(url2features[inp_url],url2features[tempUrl]) for tempUrl in tempUrls])\n",
        "  if len(tempUrls)==0:\n",
        "    tempIscore=0\n",
        "  tempRscore = cosine_scores[indexx][0]\n",
        "\n",
        "  print('Image URL: ',tempUrls)\n",
        "  print(\"Review: \",tempReviews)\n",
        "  print(\"Cosine similarity of images: \", tempIscore)\n",
        "  print(\"Cosine similarity of reviews: \", tempRscore)\n",
        "  print('Composite similarity score: ', (tempIscore+tempRscore)/2,'\\n')\n"
      ],
      "metadata": {
        "id": "z6o69cA2xFoI",
        "colab": {
          "base_uri": "https://localhost:8080/"
        },
        "outputId": "7fb26c7d-097c-4a18-c046-c3163a9e34fe"
      },
      "execution_count": 89,
      "outputs": [
        {
          "output_type": "stream",
          "name": "stdout",
          "text": [
            "Input url https://images-na.ssl-images-amazon.com/images/I/81q5+IxFVUL._SY88.jpg\n",
            "Input Review Loving these vintage springs on my vintage strat. They have a good tension and great stability. If you are floating your bridge and want the most out of your springs than these are the way to go.\n",
            "\n",
            "\n",
            "\n",
            "Image URL:  ['https://images-na.ssl-images-amazon.com/images/I/81Z1d7HaBfL._SY88.jpg']\n",
            "Review:  Nice solid springs and defeinitely more silent. Easy installation and the black looks cool.\n",
            "\n",
            "Pictured with some old uninstalled springs next to them.\n",
            "Cosine similarity of images:  0.62275696\n",
            "Cosine similarity of reviews:  0.3331900140257178\n",
            "Composite similarity score:  0.47797348601676515 \n",
            "\n",
            "Image URL:  ['https://images-na.ssl-images-amazon.com/images/I/61rFj+KtBRL._SY88.jpg']\n",
            "Review:  Fits great but the only complaint I have is that the tremolo springs are cheap quality and so is the block that attaches to the bridge. I took it off and put my own on. When you do that though, the wammy bar won't fit.\n",
            "Cosine similarity of images:  0.742666\n",
            "Cosine similarity of reviews:  0.23539197172289503\n",
            "Composite similarity score:  0.48902898890557595 \n",
            "\n",
            "Image URL:  ['https://images-na.ssl-images-amazon.com/images/I/81U3GJsTjNL._SY88.jpg', 'https://images-na.ssl-images-amazon.com/images/I/71TDWb-prbL._SY88.jpg']\n",
            "Review:  Great Quality, adjustable tension. Well made.\n",
            "Cosine similarity of images:  0.77595925\n",
            "Cosine similarity of reviews:  0.2172338398715884\n",
            "Composite similarity score:  0.4965965465913728 \n",
            "\n"
          ]
        }
      ]
    },
    {
      "cell_type": "markdown",
      "source": [
        "# Composite Score"
      ],
      "metadata": {
        "id": "oLjP7wDEYH49"
      }
    },
    {
      "cell_type": "code",
      "source": [
        "inp_url = input(\"Input url \")\n",
        "inp_review = input(\"Input Review \")\n",
        "cosine_scores = [[(cosine_similarity(url2features[inp_url],url2features[tempUrl])[0][0]+calculate_cosine_similarity(review2features[inp_review],review2features[url2data[tempUrl]['review']]))/2,tempUrl] for tempUrl in urlList if url2data[tempUrl]['id']!=url2data[inp_url]['id'] and isinstance(url2data[tempUrl]['review'],str)]\n",
        "cosine_scores.sort(key=lambda l:l[0],reverse=True)\n",
        "print('\\n\\n')\n",
        "for indexx in range(3):\n",
        "  tempUrls = cosine_scores[indexx][1]\n",
        "  tempReviews = url2data[tempUrls]['review']\n",
        "  tempIscore = cosine_similarity(url2features[inp_url],url2features[tempUrls])[0][0]\n",
        "  tempRscore = calculate_cosine_similarity(review2features[tempReviews],review2features[inp_review])\n",
        "\n",
        "  print('Image URL: ',tempUrls)\n",
        "  print(\"Review: \",tempReviews)\n",
        "  print(\"Cosine similarity of images: \", tempIscore)\n",
        "  print(\"Cosine similarity of reviews: \", tempRscore)\n",
        "  print('Composite similarity score: ', cosine_scores[indexx][0],'\\n')"
      ],
      "metadata": {
        "colab": {
          "base_uri": "https://localhost:8080/"
        },
        "id": "dgy1WAVhYHdO",
        "outputId": "92ecda2f-fd29-4f3b-d9dd-6c8138d8f580"
      },
      "execution_count": 91,
      "outputs": [
        {
          "output_type": "stream",
          "name": "stdout",
          "text": [
            "Input url https://images-na.ssl-images-amazon.com/images/I/81q5+IxFVUL._SY88.jpg\n",
            "Input Review Loving these vintage springs on my vintage strat. They have a good tension and great stability. If you are floating your bridge and want the most out of your springs than these are the way to go.\n",
            "\n",
            "\n",
            "\n",
            "Image URL:  https://images-na.ssl-images-amazon.com/images/I/81U3GJsTjNL._SY88.jpg\n",
            "Review:  Great Quality, adjustable tension. Well made.\n",
            "Cosine similarity of images:  0.8492337\n",
            "Cosine similarity of reviews:  0.2172338398715884\n",
            "Composite similarity score:  0.5332337633977846 \n",
            "\n",
            "Image URL:  https://images-na.ssl-images-amazon.com/images/I/71rpRdEgKoL._SY88.jpg\n",
            "Review:  Great pups!\n",
            "\n",
            "Fender really got these right!\n",
            "Great vintage tone pups at a steal.\n",
            "Replaced original Lace pup equipped pickguard in my Strat Plus. And wired up a new pickguard with a .022 cap. Which is working fine for me.\n",
            "\n",
            "If you also need pickup adjustment screws and you have a modern pick guard. Be aware these come with oval head countersunk pickup adjustment screws for vintage pickguards.\n",
            "Cosine similarity of images:  0.86628973\n",
            "Cosine similarity of reviews:  0.14657423723934823\n",
            "Composite similarity score:  0.5064319860398706 \n",
            "\n",
            "Image URL:  https://images-na.ssl-images-amazon.com/images/I/81ek5g8WP8L._SY88.jpg\n",
            "Review:  I've been using this little amp for over a month now and totally love it.  I run it into a small cabinet with a Jensen Vintage C8R4 8-inch ceramic speaker housed in a maple 12\" x 12\" cabinet and it sounds amazing.  If you closed your eyes you would think you were hearing a Fender Tweed combo from the 50's.  I use a delay/reverb combo pedal in the effects loop insert and it's as sweet as the larger setups I have in my main music room.  I use this in my office and it's perfect for the space.  I can't believe such vintage tones can come out of a chip-amp that is as small as a stomp pedal.  If you're looking for extremely high gain, try one of the other Hotone amps like the Legacy British Invasion or Purple Wind.\n",
            "Cosine similarity of images:  0.88319284\n",
            "Cosine similarity of reviews:  0.1046633162044425\n",
            "Composite similarity score:  0.4939280767213771 \n",
            "\n"
          ]
        }
      ]
    },
    {
      "cell_type": "code",
      "source": [],
      "metadata": {
        "id": "m1VkY7o7wnGE"
      },
      "execution_count": null,
      "outputs": []
    }
  ]
}